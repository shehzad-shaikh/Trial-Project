{
    "cells": [
        {
            "cell_type": "markdown",
            "metadata": {},
            "source": "A test excel file to checkout the notebook"
        },
        {
            "cell_type": "code",
            "execution_count": 1,
            "metadata": {},
            "outputs": [
                {
                    "data": {
                        "text/html": "<div>\n<style scoped>\n    .dataframe tbody tr th:only-of-type {\n        vertical-align: middle;\n    }\n\n    .dataframe tbody tr th {\n        vertical-align: top;\n    }\n\n    .dataframe thead th {\n        text-align: right;\n    }\n</style>\n<table border=\"1\" class=\"dataframe\">\n  <thead>\n    <tr style=\"text-align: right;\">\n      <th></th>\n      <th>Product</th>\n      <th>Barcode</th>\n      <th>Cost</th>\n      <th>Stock</th>\n    </tr>\n  </thead>\n  <tbody>\n    <tr>\n      <th>0</th>\n      <td>1881 by Cerruti for Men EDT 100mL</td>\n      <td>688575003659</td>\n      <td>8.5</td>\n      <td>5</td>\n    </tr>\n    <tr>\n      <th>1</th>\n      <td>212 Sexy by Carolina Herrera for Women EDP 100mL</td>\n      <td>8411061906590</td>\n      <td>19.5</td>\n      <td>5</td>\n    </tr>\n    <tr>\n      <th>2</th>\n      <td>5th Avenue by Elizabeth Arden for Women EDP 125mL</td>\n      <td>85805390600</td>\n      <td>7.5</td>\n      <td>5</td>\n    </tr>\n    <tr>\n      <th>3</th>\n      <td>Adventure by Davidoff for Men EDT 100mL</td>\n      <td>3414200204415</td>\n      <td>7.5</td>\n      <td>5</td>\n    </tr>\n    <tr>\n      <th>4</th>\n      <td>Alien by Thierry Mugler for Women EDP 30mL</td>\n      <td>3439602800119</td>\n      <td>17.5</td>\n      <td>5</td>\n    </tr>\n  </tbody>\n</table>\n</div>",
                        "text/plain": "                                             Product        Barcode  Cost  \\\n0                  1881 by Cerruti for Men EDT 100mL   688575003659   8.5   \n1   212 Sexy by Carolina Herrera for Women EDP 100mL  8411061906590  19.5   \n2  5th Avenue by Elizabeth Arden for Women EDP 125mL    85805390600   7.5   \n3            Adventure by Davidoff for Men EDT 100mL  3414200204415   7.5   \n4         Alien by Thierry Mugler for Women EDP 30mL  3439602800119  17.5   \n\n   Stock  \n0      5  \n1      5  \n2      5  \n3      5  \n4      5  "
                    },
                    "execution_count": 1,
                    "metadata": {},
                    "output_type": "execute_result"
                }
            ],
            "source": "# The code was removed by Watson Studio for sharing."
        },
        {
            "cell_type": "code",
            "execution_count": null,
            "metadata": {},
            "outputs": [],
            "source": ""
        }
    ],
    "metadata": {
        "kernelspec": {
            "display_name": "Python 3.9",
            "language": "python",
            "name": "python3"
        },
        "language_info": {
            "codemirror_mode": {
                "name": "ipython",
                "version": 3
            },
            "file_extension": ".py",
            "mimetype": "text/x-python",
            "name": "python",
            "nbconvert_exporter": "python",
            "pygments_lexer": "ipython3",
            "version": "3.9.7"
        }
    },
    "nbformat": 4,
    "nbformat_minor": 1
}